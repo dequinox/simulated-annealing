{
  "nbformat": 4,
  "nbformat_minor": 0,
  "metadata": {
    "colab": {
      "name": "TravelingSalesman",
      "provenance": [],
      "collapsed_sections": []
    },
    "kernelspec": {
      "name": "python3",
      "display_name": "Python 3"
    }
  },
  "cells": [
    {
      "cell_type": "code",
      "metadata": {
        "id": "-kRueUiD1Ltc",
        "colab_type": "code",
        "colab": {}
      },
      "source": [
        "import pandas as pd\n",
        "import random \n",
        "import numpy as np\n",
        "import numpy.random as rn\n",
        "import matplotlib.pyplot as plt\n",
        "from math import sin, cos, sqrt, atan2, radians"
      ],
      "execution_count": 0,
      "outputs": []
    },
    {
      "cell_type": "code",
      "metadata": {
        "id": "TPCXe3k23CuA",
        "colab_type": "code",
        "colab": {}
      },
      "source": [
        "fields = ['city', 'geo_lat', 'geo_lon', 'population']\n",
        "\n",
        "dataset = pd.read_csv('city.csv', skipinitialspace=True, usecols=fields)\n",
        "dataset.sort_values(\"population\", axis = 0, ascending = True, \n",
        "                 inplace = True, na_position ='last') \n",
        "\n",
        "cities = dataset.values[0:30, :]"
      ],
      "execution_count": 0,
      "outputs": []
    },
    {
      "cell_type": "code",
      "metadata": {
        "id": "-Apg5SlI6N8w",
        "colab_type": "code",
        "colab": {}
      },
      "source": [
        "def random_start(path):\n",
        "    return path\n",
        "\n",
        "def get_distance(city_u, city_v):\n",
        "    R = 6373.0\n",
        "\n",
        "    lat1 = radians(city_u[1])\n",
        "    lon1 = radians(city_u[2])\n",
        "    lat2 = radians(city_v[1])\n",
        "    lon2 = radians(city_v[2])\n",
        "\n",
        "    dlon = lon2 - lon1\n",
        "    dlat = lat2 - lat1\n",
        "\n",
        "    a = sin(dlat / 2)**2 + cos(lat1) * cos(lat2) * sin(dlon / 2)**2\n",
        "    c = 2 * atan2(sqrt(a), sqrt(1 - a))\n",
        "\n",
        "    distance = R * c\n",
        "    return distance\n",
        "\n",
        "def cost_function(path):\n",
        "    dist = 0\n",
        "    last_city = path[0]\n",
        "    for city in path:\n",
        "        dist += get_distance(last_city, city)\n",
        "    return dist\n",
        "\n",
        "def random_neighbour(path):\n",
        "    city_u = random.randrange(0, 30, 1)\n",
        "    city_v = random.randrange(0, 30, 1)\n",
        "\n",
        "    npath = path.copy()\n",
        "    npath[city_v] = path[city_u]\n",
        "    npath[city_u] = path[city_v]\n",
        "    return npath\n",
        "\n",
        "def acceptance_probability(cost, new_cost, temperature):\n",
        "    if new_cost < cost:\n",
        "        # print(\"    - Acceptance probabilty = 1 as new_cost = {} < cost = {}...\".format(new_cost, cost))\n",
        "        return 1\n",
        "    else:\n",
        "        p = np.exp(- (new_cost - cost) / temperature)\n",
        "        # print(\"    - Acceptance probabilty = {:.3g}...\".format(p))\n",
        "        return p\n"
      ],
      "execution_count": 0,
      "outputs": []
    },
    {
      "cell_type": "code",
      "metadata": {
        "id": "W116TV1D3TOE",
        "colab_type": "code",
        "colab": {}
      },
      "source": [
        "def annealing(path, random_start,\n",
        "              cost_function,\n",
        "              random_neighbour,\n",
        "              acceptance,\n",
        "              coolRate = 0.0001,\n",
        "              temperature = 1,\n",
        "              maxsteps=1000,\n",
        "              debug=True):\n",
        "    state = random_start(path)\n",
        "    cost = cost_function(state)\n",
        "    states, costs = [state], [cost]\n",
        "    step = 0\n",
        "    while temperature > 0.01:\n",
        "        step = step + 1\n",
        "        fraction = step / float(maxsteps)\n",
        "        temperature = temperature - coolRate\n",
        "        new_state = random_neighbour(state)\n",
        "        new_cost = cost_function(new_state)\n",
        "        if debug and step % 100 == 0: print(\"Step = \", step, \"T = \", temperature, \"Cost = \", cost, \"NewCost = \", new_cost)\n",
        "        if acceptance_probability(cost, new_cost, temperature) > rn.random():\n",
        "            state, cost = new_state, new_cost\n",
        "            states.append(state)\n",
        "            costs.append(cost)\n",
        "            # print(\"  ==> Accept it!\")\n",
        "        # else:\n",
        "        #    print(\"  ==> Reject it...\")\n",
        "    return state, cost_function(state), states, costs"
      ],
      "execution_count": 0,
      "outputs": []
    },
    {
      "cell_type": "code",
      "metadata": {
        "id": "s1UdrCoAGO3Y",
        "colab_type": "code",
        "outputId": "87265565-331d-4c1f-c224-f8cd93cea494",
        "colab": {
          "base_uri": "https://localhost:8080/",
          "height": 1000
        }
      },
      "source": [
        "state, c, states, costs = annealing(cities, random_start, cost_function, random_neighbour, acceptance_probability, maxsteps=1000, debug=True);"
      ],
      "execution_count": 67,
      "outputs": [
        {
          "output_type": "stream",
          "text": [
            "Step =  100 T =  0.9900000000000011 Cost =  36572.69613497184 NewCost =  36572.69613497184\n",
            "Step =  200 T =  0.9800000000000022 Cost =  36572.69613497184 NewCost =  44916.1787913117\n",
            "Step =  300 T =  0.9700000000000033 Cost =  35934.00158088846 NewCost =  35934.00158088846\n",
            "Step =  400 T =  0.9600000000000044 Cost =  35934.00158088845 NewCost =  35934.00158088845\n",
            "Step =  500 T =  0.9500000000000055 Cost =  35934.00158088846 NewCost =  47872.192522313075\n",
            "Step =  600 T =  0.9400000000000066 Cost =  35934.00158088846 NewCost =  35934.00158088846\n",
            "Step =  700 T =  0.9300000000000077 Cost =  35934.00158088845 NewCost =  35934.00158088844\n",
            "Step =  800 T =  0.9200000000000088 Cost =  35934.00158088845 NewCost =  35934.00158088844\n",
            "Step =  900 T =  0.9100000000000099 Cost =  35934.00158088845 NewCost =  35934.00158088846\n",
            "Step =  1000 T =  0.900000000000011 Cost =  35934.001580888464 NewCost =  50191.29957707631\n",
            "Step =  1100 T =  0.8900000000000121 Cost =  35934.00158088844 NewCost =  35934.00158088844\n",
            "Step =  1200 T =  0.8800000000000132 Cost =  35934.00158088845 NewCost =  35934.00158088845\n",
            "Step =  1300 T =  0.8700000000000143 Cost =  35934.00158088846 NewCost =  35934.00158088846\n",
            "Step =  1400 T =  0.8600000000000154 Cost =  35934.00158088846 NewCost =  35934.00158088846\n",
            "Step =  1500 T =  0.8500000000000165 Cost =  35934.00158088846 NewCost =  35934.00158088846\n",
            "Step =  1600 T =  0.8400000000000176 Cost =  35934.00158088844 NewCost =  35934.00158088845\n",
            "Step =  1700 T =  0.8300000000000187 Cost =  35934.00158088846 NewCost =  35934.00158088846\n",
            "Step =  1800 T =  0.8200000000000198 Cost =  35934.00158088845 NewCost =  35934.00158088845\n",
            "Step =  1900 T =  0.8100000000000209 Cost =  35934.00158088846 NewCost =  35934.00158088846\n",
            "Step =  2000 T =  0.800000000000022 Cost =  35934.00158088846 NewCost =  35934.00158088846\n",
            "Step =  2100 T =  0.7900000000000231 Cost =  35934.00158088845 NewCost =  35934.00158088845\n",
            "Step =  2200 T =  0.7800000000000242 Cost =  35934.00158088845 NewCost =  35934.00158088845\n",
            "Step =  2300 T =  0.7700000000000253 Cost =  35934.00158088846 NewCost =  35934.00158088846\n",
            "Step =  2400 T =  0.7600000000000264 Cost =  35934.00158088846 NewCost =  35934.00158088846\n",
            "Step =  2500 T =  0.7500000000000275 Cost =  35934.00158088845 NewCost =  35934.00158088845\n",
            "Step =  2600 T =  0.7400000000000286 Cost =  35934.00158088846 NewCost =  35934.001580888464\n",
            "Step =  2700 T =  0.7300000000000297 Cost =  35934.00158088844 NewCost =  35934.00158088844\n",
            "Step =  2800 T =  0.7200000000000308 Cost =  35934.00158088846 NewCost =  35934.001580888464\n",
            "Step =  2900 T =  0.7100000000000319 Cost =  35934.001580888464 NewCost =  35934.00158088846\n",
            "Step =  3000 T =  0.700000000000033 Cost =  35934.00158088846 NewCost =  35934.00158088846\n",
            "Step =  3100 T =  0.6900000000000341 Cost =  35934.00158088846 NewCost =  35934.00158088846\n",
            "Step =  3200 T =  0.6800000000000352 Cost =  35934.00158088846 NewCost =  35934.00158088844\n",
            "Step =  3300 T =  0.6700000000000363 Cost =  35934.00158088845 NewCost =  35934.00158088845\n",
            "Step =  3400 T =  0.6600000000000374 Cost =  35934.00158088845 NewCost =  35934.00158088845\n",
            "Step =  3500 T =  0.6500000000000385 Cost =  35934.00158088846 NewCost =  35934.00158088846\n",
            "Step =  3600 T =  0.6400000000000396 Cost =  35934.00158088846 NewCost =  35934.00158088845\n",
            "Step =  3700 T =  0.6300000000000407 Cost =  35934.00158088846 NewCost =  35934.00158088846\n",
            "Step =  3800 T =  0.6200000000000419 Cost =  35934.00158088846 NewCost =  35934.00158088845\n",
            "Step =  3900 T =  0.610000000000043 Cost =  35934.00158088846 NewCost =  35934.00158088846\n",
            "Step =  4000 T =  0.600000000000044 Cost =  35934.00158088846 NewCost =  35934.00158088846\n",
            "Step =  4100 T =  0.5900000000000452 Cost =  35934.00158088845 NewCost =  35934.00158088845\n",
            "Step =  4200 T =  0.5800000000000463 Cost =  35934.00158088845 NewCost =  35934.00158088845\n",
            "Step =  4300 T =  0.5700000000000474 Cost =  35934.00158088846 NewCost =  35934.00158088846\n",
            "Step =  4400 T =  0.5600000000000485 Cost =  35934.00158088845 NewCost =  35934.00158088845\n",
            "Step =  4500 T =  0.5500000000000496 Cost =  35934.00158088845 NewCost =  35934.00158088845\n",
            "Step =  4600 T =  0.5400000000000507 Cost =  35934.00158088845 NewCost =  35934.00158088845\n",
            "Step =  4700 T =  0.5300000000000518 Cost =  35934.00158088846 NewCost =  35934.00158088846\n",
            "Step =  4800 T =  0.5200000000000529 Cost =  35934.00158088844 NewCost =  35934.00158088844\n",
            "Step =  4900 T =  0.510000000000054 Cost =  35934.001580888464 NewCost =  35934.001580888464\n",
            "Step =  5000 T =  0.5000000000000551 Cost =  35934.00158088845 NewCost =  35934.00158088845\n",
            "Step =  5100 T =  0.49000000000005617 Cost =  35934.00158088846 NewCost =  35934.00158088846\n",
            "Step =  5200 T =  0.48000000000005727 Cost =  35934.00158088846 NewCost =  35934.00158088845\n",
            "Step =  5300 T =  0.47000000000005837 Cost =  35934.001580888464 NewCost =  35934.001580888464\n",
            "Step =  5400 T =  0.4600000000000595 Cost =  35934.00158088846 NewCost =  35934.00158088846\n",
            "Step =  5500 T =  0.4500000000000606 Cost =  35934.00158088845 NewCost =  35934.00158088845\n",
            "Step =  5600 T =  0.4400000000000617 Cost =  35934.00158088844 NewCost =  35934.00158088844\n",
            "Step =  5700 T =  0.4300000000000628 Cost =  35934.00158088845 NewCost =  35934.00158088846\n",
            "Step =  5800 T =  0.4200000000000639 Cost =  35934.00158088844 NewCost =  35934.00158088844\n",
            "Step =  5900 T =  0.410000000000065 Cost =  35934.00158088845 NewCost =  35934.00158088845\n",
            "Step =  6000 T =  0.4000000000000661 Cost =  35934.00158088846 NewCost =  43587.495827369676\n",
            "Step =  6100 T =  0.3900000000000672 Cost =  35934.00158088845 NewCost =  35934.00158088845\n",
            "Step =  6200 T =  0.3800000000000683 Cost =  35934.00158088845 NewCost =  35934.00158088845\n",
            "Step =  6300 T =  0.3700000000000694 Cost =  35934.00158088846 NewCost =  35934.00158088846\n",
            "Step =  6400 T =  0.3600000000000705 Cost =  35934.00158088846 NewCost =  35934.00158088846\n",
            "Step =  6500 T =  0.3500000000000716 Cost =  35934.00158088845 NewCost =  35934.00158088846\n",
            "Step =  6600 T =  0.3400000000000727 Cost =  35934.00158088846 NewCost =  35934.00158088846\n",
            "Step =  6700 T =  0.3300000000000738 Cost =  35934.00158088844 NewCost =  35934.00158088845\n",
            "Step =  6800 T =  0.3200000000000749 Cost =  35934.00158088844 NewCost =  35934.00158088844\n",
            "Step =  6900 T =  0.310000000000076 Cost =  35934.00158088846 NewCost =  35934.00158088846\n",
            "Step =  7000 T =  0.3000000000000771 Cost =  35934.00158088846 NewCost =  35934.00158088846\n",
            "Step =  7100 T =  0.2900000000000782 Cost =  35934.00158088846 NewCost =  35934.00158088846\n",
            "Step =  7200 T =  0.2800000000000793 Cost =  35934.00158088846 NewCost =  35934.001580888464\n",
            "Step =  7300 T =  0.2700000000000804 Cost =  35934.00158088845 NewCost =  35934.00158088844\n",
            "Step =  7400 T =  0.2600000000000815 Cost =  35934.001580888464 NewCost =  35934.001580888464\n",
            "Step =  7500 T =  0.2500000000000826 Cost =  35934.00158088846 NewCost =  35934.00158088846\n",
            "Step =  7600 T =  0.2400000000000837 Cost =  35934.00158088844 NewCost =  35934.00158088845\n",
            "Step =  7700 T =  0.2300000000000848 Cost =  35934.00158088845 NewCost =  35934.00158088845\n",
            "Step =  7800 T =  0.2200000000000859 Cost =  35934.00158088844 NewCost =  35934.00158088845\n",
            "Step =  7900 T =  0.210000000000087 Cost =  35934.00158088846 NewCost =  36070.644800153015\n",
            "Step =  8000 T =  0.2000000000000881 Cost =  35934.00158088845 NewCost =  35934.00158088845\n",
            "Step =  8100 T =  0.1900000000000892 Cost =  35934.00158088845 NewCost =  35934.00158088845\n",
            "Step =  8200 T =  0.1800000000000903 Cost =  35934.00158088844 NewCost =  35934.00158088844\n",
            "Step =  8300 T =  0.1700000000000914 Cost =  35934.00158088845 NewCost =  39293.84255403011\n",
            "Step =  8400 T =  0.1600000000000925 Cost =  35934.00158088845 NewCost =  35934.00158088845\n",
            "Step =  8500 T =  0.15000000000009361 Cost =  35934.00158088845 NewCost =  35934.00158088845\n",
            "Step =  8600 T =  0.14000000000009472 Cost =  35934.00158088844 NewCost =  35934.00158088845\n",
            "Step =  8700 T =  0.13000000000009582 Cost =  35934.001580888464 NewCost =  35934.001580888464\n",
            "Step =  8800 T =  0.12000000000009622 Cost =  35934.00158088846 NewCost =  35934.00158088846\n",
            "Step =  8900 T =  0.11000000000009594 Cost =  35934.00158088844 NewCost =  35934.00158088844\n",
            "Step =  9000 T =  0.10000000000009565 Cost =  35934.00158088845 NewCost =  35934.00158088845\n",
            "Step =  9100 T =  0.09000000000009536 Cost =  35934.00158088845 NewCost =  35934.00158088845\n",
            "Step =  9200 T =  0.08000000000009508 Cost =  35934.00158088846 NewCost =  35934.00158088846\n",
            "Step =  9300 T =  0.07000000000009479 Cost =  35934.00158088845 NewCost =  35934.00158088845\n",
            "Step =  9400 T =  0.060000000000094506 Cost =  35934.00158088846 NewCost =  35934.00158088846\n",
            "Step =  9500 T =  0.05000000000009422 Cost =  35934.00158088845 NewCost =  35934.00158088845\n",
            "Step =  9600 T =  0.04000000000009393 Cost =  35934.00158088845 NewCost =  35934.00158088845\n",
            "Step =  9700 T =  0.03000000000009369 Cost =  35934.00158088846 NewCost =  35934.00158088845\n",
            "Step =  9800 T =  0.020000000000093752 Cost =  35934.001580888464 NewCost =  37135.180310751806\n",
            "Step =  9900 T =  0.010000000000093812 Cost =  35934.00158088846 NewCost =  35934.00158088846\n"
          ],
          "name": "stdout"
        }
      ]
    },
    {
      "cell_type": "code",
      "metadata": {
        "id": "XRhrBSGhGRFB",
        "colab_type": "code",
        "colab": {}
      },
      "source": [
        "def see_annealing(states, costs):\n",
        "    plt.figure()\n",
        "    plt.suptitle(\"Evolution of states and costs of the simulated annealing\")\n",
        "    #plt.subplot(121)\n",
        "    #plt.plot(states, 'r')\n",
        "    #plt.title(\"States\")\n",
        "    plt.subplot(122)\n",
        "    plt.plot(costs, 'b')\n",
        "    plt.title(\"Costs\")\n",
        "    plt.show()"
      ],
      "execution_count": 0,
      "outputs": []
    },
    {
      "cell_type": "code",
      "metadata": {
        "id": "sTQ9vMQ4OZPy",
        "colab_type": "code",
        "colab": {
          "base_uri": "https://localhost:8080/",
          "height": 294
        },
        "outputId": "509382f2-2270-4b3e-cf21-710e9ae45add"
      },
      "source": [
        "see_annealing(states, costs)"
      ],
      "execution_count": 69,
      "outputs": [
        {
          "output_type": "display_data",
          "data": {
            "image/png": "[encoded data removed]",
            "text/plain": [
              "<Figure size 432x288 with 1 Axes>"
            ]
          },
          "metadata": {
            "tags": []
          }
        }
      ]
    },
    {
      "cell_type": "code",
      "metadata": {
        "id": "bd5KUT-rOdJ9",
        "colab_type": "code",
        "colab": {}
      },
      "source": [
        ""
      ],
      "execution_count": 0,
      "outputs": []
    }
  ]
}